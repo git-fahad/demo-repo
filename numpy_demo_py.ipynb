{
  "nbformat": 4,
  "nbformat_minor": 0,
  "metadata": {
    "colab": {
      "provenance": [],
      "authorship_tag": "ABX9TyMr9ezm6MM/MRXX9NHFaP+A",
      "include_colab_link": true
    },
    "kernelspec": {
      "name": "python3",
      "display_name": "Python 3"
    },
    "language_info": {
      "name": "python"
    }
  },
  "cells": [
    {
      "cell_type": "markdown",
      "metadata": {
        "id": "view-in-github",
        "colab_type": "text"
      },
      "source": [
        "<a href=\"https://colab.research.google.com/github/git-fahad/demo-repo/blob/main/numpy_demo_py.ipynb\" target=\"_parent\"><img src=\"https://colab.research.google.com/assets/colab-badge.svg\" alt=\"Open In Colab\"/></a>"
      ]
    },
    {
      "cell_type": "code",
      "execution_count": 1,
      "metadata": {
        "colab": {
          "base_uri": "https://localhost:8080/"
        },
        "id": "vTe4II3IePJT",
        "outputId": "705a9b24-ee5a-4cff-b1ad-07d52357a56a"
      },
      "outputs": [
        {
          "output_type": "stream",
          "name": "stdout",
          "text": [
            "[1 2 3]\n"
          ]
        }
      ],
      "source": [
        "import numpy as np\n",
        "\n",
        "ar = np.array([1, 2, 3])\n",
        "\n",
        "print(ar)"
      ]
    },
    {
      "cell_type": "code",
      "source": [
        "## 2D array\n",
        "\n",
        "ar_2 = np.array([(1, 2, 4), (5, 3, 2)])\n",
        "print(ar_2)"
      ],
      "metadata": {
        "colab": {
          "base_uri": "https://localhost:8080/"
        },
        "id": "h9KgZf8KfxBx",
        "outputId": "8ac921e6-db47-4139-e2d7-977d7a7a82e6"
      },
      "execution_count": 4,
      "outputs": [
        {
          "output_type": "stream",
          "name": "stdout",
          "text": [
            "[[1 2 4]\n",
            " [5 3 2]]\n"
          ]
        }
      ]
    },
    {
      "cell_type": "code",
      "source": [
        "## Confirming that numpy consumes less memory\n",
        "import numpy as np\n",
        "import sys\n",
        "import time\n",
        "\n",
        "S = range(1000)\n",
        "D = np.arange(1000)\n",
        "\n",
        "## Both variables contain 1000 integer values - from 0 to 1000\n",
        "\n",
        "##Calculating the size\n",
        "\n",
        "print(sys.getsizeof(5) * len(S))\n",
        "\n",
        "print(D.size*D.itemsize)"
      ],
      "metadata": {
        "colab": {
          "base_uri": "https://localhost:8080/"
        },
        "id": "7pzRSLM9gaFh",
        "outputId": "9e1bebd1-17f2-4eaf-d329-fb4db82a910a"
      },
      "execution_count": 5,
      "outputs": [
        {
          "output_type": "stream",
          "name": "stdout",
          "text": [
            "28000\n",
            "8000\n"
          ]
        }
      ]
    },
    {
      "cell_type": "code",
      "source": [
        "## Comparing the time taken to add two lists & np arrays\n",
        "\n",
        "import numpy as np\n",
        "import sys\n",
        "import time\n",
        "\n",
        "size = 1000000\n",
        "\n",
        "L1 = range(size)\n",
        "L2 = range(size)\n",
        "\n",
        "A1 = np.arange(size)\n",
        "A2 = np.arange(size)\n",
        "\n",
        "start = time.time()\n",
        "\n",
        "result = [(x,y) for x, y in zip (L1, L2)]\n",
        "\n",
        "print((time.time() - start) * 1000)\n",
        "#print(result)\n",
        "\n",
        "result = A1 + A2\n",
        "\n",
        "print((time.time() - start) * 1000)\n",
        "#print(result)"
      ],
      "metadata": {
        "colab": {
          "base_uri": "https://localhost:8080/"
        },
        "id": "AVxDO3LWiG1S",
        "outputId": "b7f51340-7333-4db4-aa17-dbf13ee46bec"
      },
      "execution_count": 1,
      "outputs": [
        {
          "output_type": "stream",
          "name": "stdout",
          "text": [
            "373.57115745544434\n",
            "434.71455574035645\n"
          ]
        }
      ]
    },
    {
      "cell_type": "markdown",
      "source": [
        "Numpy arrays take more time to add than lists, however, numpy calculation is easier"
      ],
      "metadata": {
        "id": "30jdlBbBk8sE"
      }
    },
    {
      "cell_type": "code",
      "source": [
        "y = np.array([(1,2,3),(4,5,6)])\n",
        "print(np.size(y))\n",
        "print(np.shape(y))\n",
        "print(y)"
      ],
      "metadata": {
        "colab": {
          "base_uri": "https://localhost:8080/"
        },
        "id": "CGZTSzmAlp-H",
        "outputId": "a2810ef2-a242-4dae-beda-74f62002f926"
      },
      "execution_count": 9,
      "outputs": [
        {
          "output_type": "stream",
          "name": "stdout",
          "text": [
            "6\n",
            "(2, 3)\n",
            "[[1 2 3]\n",
            " [4 5 6]]\n"
          ]
        }
      ]
    },
    {
      "cell_type": "code",
      "source": [
        "y = np.array([(1,2,3,5,7),(4,5,6,7,9)])\n",
        "y = np.reshape(14,1)\n",
        "print(y)"
      ],
      "metadata": {
        "colab": {
          "base_uri": "https://localhost:8080/"
        },
        "id": "RpPtKZ0NpQ_D",
        "outputId": "61b35fa9-21b1-4343-b6dd-49153b2111b6"
      },
      "execution_count": 13,
      "outputs": [
        {
          "output_type": "stream",
          "name": "stdout",
          "text": [
            "[14]\n"
          ]
        }
      ]
    },
    {
      "cell_type": "code",
      "source": [
        "## Operations\n",
        "\n",
        "y = np.array([(1,2,3,5,7),(4,5,6,7,9)])\n",
        "\n",
        "print(y)\n",
        "\n",
        "print(y[1, 3])\n",
        "\n",
        "print(np.max(y[0]))\n",
        "\n",
        "print(np.min(y))\n",
        "\n",
        "print(np.sum(y[0]))\n",
        "\n",
        "print('\\n')\n",
        "print(y.sum(axis=1))\n",
        "\n",
        "#sqroot\n",
        "print(np.sqrt(y))\n",
        "\n",
        "print('\\n')\n",
        "#stddeviation\n",
        "print(np.std(y))\n",
        "\n",
        "print('\\n')\n",
        "print(np.mean(y))"
      ],
      "metadata": {
        "colab": {
          "base_uri": "https://localhost:8080/"
        },
        "id": "JC9P4hzKpyFr",
        "outputId": "6de1c53d-bcfa-4701-cbcb-1e79b1eeb445"
      },
      "execution_count": 40,
      "outputs": [
        {
          "output_type": "stream",
          "name": "stdout",
          "text": [
            "[[1 2 3 5 7]\n",
            " [4 5 6 7 9]]\n",
            "7\n",
            "7\n",
            "1\n",
            "18\n",
            "\n",
            "\n",
            "[18 31]\n",
            "[[1.         1.41421356 1.73205081 2.23606798 2.64575131]\n",
            " [2.         2.23606798 2.44948974 2.64575131 3.        ]]\n",
            "\n",
            "\n",
            "2.3430749027719964\n",
            "\n",
            "\n",
            "4.9\n"
          ]
        }
      ]
    },
    {
      "cell_type": "code",
      "source": [
        "##Mathematical operators are straight forward + - * /\n",
        "\n",
        "## Stacking\n",
        "# Vertical and Horizontal\n",
        "\n",
        "a = np.array([(1,2,3,4), (5,4,3,2)])\n",
        "b = np.array([(5,2,6,4), (7,4,8,2)])\n",
        "\n",
        "print(a)\n",
        "print(b)\n",
        "\n",
        "#print(np.vstack(a,b))"
      ],
      "metadata": {
        "colab": {
          "base_uri": "https://localhost:8080/"
        },
        "id": "xBatDK-TvbVQ",
        "outputId": "b0ebcd34-49c3-465a-bf99-3d3fc98de850"
      },
      "execution_count": 48,
      "outputs": [
        {
          "output_type": "stream",
          "name": "stdout",
          "text": [
            "[[1 2 3 4]\n",
            " [5 4 3 2]]\n",
            "[[5 2 6 4]\n",
            " [7 4 8 2]]\n"
          ]
        }
      ]
    }
  ]
}