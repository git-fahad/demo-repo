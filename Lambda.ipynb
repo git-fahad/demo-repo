{
  "nbformat": 4,
  "nbformat_minor": 0,
  "metadata": {
    "colab": {
      "provenance": [],
      "authorship_tag": "ABX9TyM6PhEXD9OwGAoevRvrAwOq",
      "include_colab_link": true
    },
    "kernelspec": {
      "name": "python3",
      "display_name": "Python 3"
    },
    "language_info": {
      "name": "python"
    }
  },
  "cells": [
    {
      "cell_type": "markdown",
      "metadata": {
        "id": "view-in-github",
        "colab_type": "text"
      },
      "source": [
        "<a href=\"https://colab.research.google.com/github/git-fahad/demo-repo/blob/main/Lambda.ipynb\" target=\"_parent\"><img src=\"https://colab.research.google.com/assets/colab-badge.svg\" alt=\"Open In Colab\"/></a>"
      ]
    },
    {
      "cell_type": "code",
      "execution_count": 11,
      "metadata": {
        "colab": {
          "base_uri": "https://localhost:8080/"
        },
        "id": "o3nxzHAkcxY-",
        "outputId": "f9974a97-9fac-4ef0-8945-57465dd82279"
      },
      "outputs": [
        {
          "output_type": "stream",
          "name": "stdout",
          "text": [
            "4\n",
            "5\n",
            "25\n"
          ]
        }
      ],
      "source": [
        "squared = lambda num : num * num\n",
        "\n",
        "print(squared(2))\n",
        "\n",
        "#num = int(0)\n",
        "num = int(input())\n",
        "out = int(0)\n",
        "out = num * num\n",
        "##out = float(out)\n",
        "print(out)"
      ]
    },
    {
      "cell_type": "code",
      "source": [
        "def squared2(num2): return num2 * num2\n",
        "print(squared2(2))"
      ],
      "metadata": {
        "colab": {
          "base_uri": "https://localhost:8080/"
        },
        "id": "0eaNfHSafl1P",
        "outputId": "a1374887-84d3-4335-fff7-68cdf8882263"
      },
      "execution_count": 12,
      "outputs": [
        {
          "output_type": "stream",
          "name": "stdout",
          "text": [
            "4\n"
          ]
        }
      ]
    },
    {
      "cell_type": "markdown",
      "source": [
        "## Higher order functions"
      ],
      "metadata": {
        "id": "u7vASSekgcA-"
      }
    },
    {
      "cell_type": "markdown",
      "source": [
        "A function which takes one or more functions as arguments or a function that returns a function as its result"
      ],
      "metadata": {
        "id": "JYqBlPnNgmoF"
      }
    },
    {
      "cell_type": "code",
      "source": [
        "numberslist = [1, 10, 34, 21, 5, 7]\n",
        "\n",
        "squared_nums_list = map(lambda num: num * num, numberslist)\n",
        "\n",
        "print(list(squared_nums_list))"
      ],
      "metadata": {
        "colab": {
          "base_uri": "https://localhost:8080/"
        },
        "id": "okRoB94Pg3X9",
        "outputId": "efacb9af-e3fc-4b37-c2ce-c71e1a684b01"
      },
      "execution_count": 14,
      "outputs": [
        {
          "output_type": "stream",
          "name": "stdout",
          "text": [
            "[1, 100, 1156, 441, 25, 49]\n"
          ]
        }
      ]
    },
    {
      "cell_type": "code",
      "source": [],
      "metadata": {
        "id": "Xxo-xhwGiH6R"
      },
      "execution_count": null,
      "outputs": []
    }
  ]
}