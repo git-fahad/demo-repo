{
  "nbformat": 4,
  "nbformat_minor": 0,
  "metadata": {
    "colab": {
      "provenance": [],
      "authorship_tag": "ABX9TyNGuDasPGKY01GQF9NWtmG0",
      "include_colab_link": true
    },
    "kernelspec": {
      "name": "python3",
      "display_name": "Python 3"
    },
    "language_info": {
      "name": "python"
    }
  },
  "cells": [
    {
      "cell_type": "markdown",
      "metadata": {
        "id": "view-in-github",
        "colab_type": "text"
      },
      "source": [
        "<a href=\"https://colab.research.google.com/github/git-fahad/demo-repo/blob/main/Lambda.ipynb\" target=\"_parent\"><img src=\"https://colab.research.google.com/assets/colab-badge.svg\" alt=\"Open In Colab\"/></a>"
      ]
    },
    {
      "cell_type": "code",
      "execution_count": 11,
      "metadata": {
        "colab": {
          "base_uri": "https://localhost:8080/"
        },
        "id": "o3nxzHAkcxY-",
        "outputId": "f9974a97-9fac-4ef0-8945-57465dd82279"
      },
      "outputs": [
        {
          "output_type": "stream",
          "name": "stdout",
          "text": [
            "4\n",
            "5\n",
            "25\n"
          ]
        }
      ],
      "source": [
        "squared = lambda num : num * num\n",
        "\n",
        "print(squared(2))\n",
        "\n",
        "#num = int(0)\n",
        "num = int(input())\n",
        "out = int(0)\n",
        "out = num * num\n",
        "##out = float(out)\n",
        "print(out)"
      ]
    },
    {
      "cell_type": "code",
      "source": [
        "def squared2(num2): return num2 * num2\n",
        "print(squared2(2))"
      ],
      "metadata": {
        "colab": {
          "base_uri": "https://localhost:8080/"
        },
        "id": "0eaNfHSafl1P",
        "outputId": "a1374887-84d3-4335-fff7-68cdf8882263"
      },
      "execution_count": 12,
      "outputs": [
        {
          "output_type": "stream",
          "name": "stdout",
          "text": [
            "4\n"
          ]
        }
      ]
    },
    {
      "cell_type": "markdown",
      "source": [
        "## Higher order functions"
      ],
      "metadata": {
        "id": "u7vASSekgcA-"
      }
    },
    {
      "cell_type": "markdown",
      "source": [
        "A function which takes one or more functions as arguments or a function that returns a function as its result"
      ],
      "metadata": {
        "id": "JYqBlPnNgmoF"
      }
    },
    {
      "cell_type": "code",
      "source": [
        "numberslist = [1, 10, 34, 21, 5, 7]\n",
        "\n",
        "squared_nums_list = map(lambda num: num * num, numberslist)\n",
        "\n",
        "print(list(squared_nums_list))"
      ],
      "metadata": {
        "colab": {
          "base_uri": "https://localhost:8080/"
        },
        "id": "okRoB94Pg3X9",
        "outputId": "23d1ce39-43ca-4dfe-fe3f-2a66d3423843"
      },
      "execution_count": 2,
      "outputs": [
        {
          "output_type": "stream",
          "name": "stdout",
          "text": [
            "[1, 100, 1156, 441, 25, 49]\n"
          ]
        }
      ]
    },
    {
      "cell_type": "code",
      "source": [
        "### Filter\n",
        "\n",
        "\n",
        "\n",
        "\n",
        "oddnums = filter(lambda num: num % 2 != 0, numberslist)\n",
        "\n",
        "print(list(oddnums))\n"
      ],
      "metadata": {
        "colab": {
          "base_uri": "https://localhost:8080/"
        },
        "id": "Xxo-xhwGiH6R",
        "outputId": "f0e034e9-40fd-4a1e-81b4-fbed8bc10b29"
      },
      "execution_count": 8,
      "outputs": [
        {
          "output_type": "stream",
          "name": "stdout",
          "text": [
            "[1, 21, 5, 7]\n"
          ]
        }
      ]
    },
    {
      "cell_type": "code",
      "source": [
        "print(33%2)"
      ],
      "metadata": {
        "colab": {
          "base_uri": "https://localhost:8080/"
        },
        "id": "Wp9jY_THVarO",
        "outputId": "af36c7a5-865c-44db-b5d2-101e915d326b"
      },
      "execution_count": 5,
      "outputs": [
        {
          "output_type": "stream",
          "name": "stdout",
          "text": [
            "0\n"
          ]
        }
      ]
    },
    {
      "cell_type": "code",
      "source": [
        "### Reduce\n",
        "### with reduce the operation is performed gradually\n",
        "import functools\n",
        "\n",
        "new_list = [1,2,3,4,5,6,7,8,9]\n",
        "#lambda acc, curr: acc + curr\n",
        "total = functools.reduce(lambda acc, curr: acc + curr, new_list)\n",
        "print(int(total))\n",
        "\n",
        "# using built in function sum\n",
        "\n",
        "print(\"\\n\")\n",
        "print(\"\\n\")\n",
        "\n",
        "print(sum(new_list))"
      ],
      "metadata": {
        "colab": {
          "base_uri": "https://localhost:8080/"
        },
        "id": "AoA-kCU3WFYG",
        "outputId": "06313c4a-7ef7-443e-87e6-f65ee7b8d22e"
      },
      "execution_count": 18,
      "outputs": [
        {
          "output_type": "stream",
          "name": "stdout",
          "text": [
            "45\n",
            "\n",
            "\n",
            "\n",
            "\n",
            "45\n"
          ]
        }
      ]
    },
    {
      "cell_type": "code",
      "source": [
        ""
      ],
      "metadata": {
        "id": "RrV7ugFNYsAa"
      },
      "execution_count": null,
      "outputs": []
    }
  ]
}