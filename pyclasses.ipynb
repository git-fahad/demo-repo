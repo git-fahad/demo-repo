{
  "nbformat": 4,
  "nbformat_minor": 0,
  "metadata": {
    "colab": {
      "provenance": [],
      "authorship_tag": "ABX9TyNEXiX8KBGzNpoxN57iTHtR",
      "include_colab_link": true
    },
    "kernelspec": {
      "name": "python3",
      "display_name": "Python 3"
    },
    "language_info": {
      "name": "python"
    }
  },
  "cells": [
    {
      "cell_type": "markdown",
      "metadata": {
        "id": "view-in-github",
        "colab_type": "text"
      },
      "source": [
        "<a href=\"https://colab.research.google.com/github/git-fahad/demo-repo/blob/main/pyclasses.ipynb\" target=\"_parent\"><img src=\"https://colab.research.google.com/assets/colab-badge.svg\" alt=\"Open In Colab\"/></a>"
      ]
    },
    {
      "cell_type": "markdown",
      "source": [
        "Python is an object oriented programming language.\n",
        "\n",
        "Almost everything in Python is an object, with its properties and methods.\n",
        "\n",
        "A Class is like an object constructor, or a \"blueprint\" for creating objects."
      ],
      "metadata": {
        "id": "R8geml6covcb"
      }
    },
    {
      "cell_type": "code",
      "source": [
        "class laptop:\n",
        "  make = 'Apple'\n",
        "  model = 'M2'\n",
        "  def info(self):\n",
        "    print(f\"This is a {laptop.make} {laptop.model} model\")\n",
        "\n",
        "a.info()\n",
        "b = laptop()\n",
        "c = laptop()\n",
        "b.make = 'Windows'\n",
        "b.model = 'Intel'\n",
        "c.make = 'Asus'\n",
        "c.model = 'Intel'\n",
        "b.info()\n",
        "c.info()\n",
        "\n"
      ],
      "metadata": {
        "colab": {
          "base_uri": "https://localhost:8080/"
        },
        "id": "gdOWeX6Mo8jN",
        "outputId": "8e66b4f5-eaab-4e82-fe3f-2e9741b53bfe"
      },
      "execution_count": 16,
      "outputs": [
        {
          "output_type": "stream",
          "name": "stdout",
          "text": [
            "This is a Apple M2 model\n",
            "This is a Apple M2 model\n",
            "This is a Apple M2 model\n"
          ]
        }
      ]
    },
    {
      "cell_type": "markdown",
      "source": [
        "**NOTE:** The self parameter is a reference to the current instance of the class, and is used to access variables that belongs to the class"
      ],
      "metadata": {
        "id": "Fq-DcXakr8F3"
      }
    },
    {
      "cell_type": "code",
      "source": [
        "class laptop:\n",
        "  make = 'Apple'\n",
        "  model = 'M2'\n",
        "  def info(self):\n",
        "    print(f\"This is a {self.make} {self.model} model\")\n",
        "\n",
        "a = laptop()\n",
        "b = laptop()\n",
        "c = laptop()\n",
        "b.make = 'Windows'\n",
        "b.model = 'Intel'\n",
        "c.make = 'Asus'\n",
        "c.model = 'Intel'\n",
        "a.info()\n",
        "b.info()\n",
        "c.info()"
      ],
      "metadata": {
        "colab": {
          "base_uri": "https://localhost:8080/"
        },
        "id": "orPR46G2r5nb",
        "outputId": "11c23358-3031-4902-b638-a4dbccbf16e1"
      },
      "execution_count": 17,
      "outputs": [
        {
          "output_type": "stream",
          "name": "stdout",
          "text": [
            "This is a Apple M2 model\n",
            "This is a Windows Intel model\n",
            "This is a Asus Intel model\n"
          ]
        }
      ]
    },
    {
      "cell_type": "markdown",
      "source": [
        "**__init__()** function to assign values to object properties"
      ],
      "metadata": {
        "id": "DF80J0kM6clB"
      }
    },
    {
      "cell_type": "code",
      "source": [
        "class laptop:\n",
        "  def __init__(self, make, model):\n",
        "    self.make = make\n",
        "    self.model = model\n",
        "  def info(self):\n",
        "      print(f\"This is a {self.make} {self.model} model\")\n",
        "\n",
        "a = laptop('Apple', 'M2')\n",
        "b = laptop('Windows', 'Intel')\n",
        "\n",
        "a.info()\n",
        "b.info()\n",
        "\n"
      ],
      "metadata": {
        "colab": {
          "base_uri": "https://localhost:8080/"
        },
        "id": "RgoAYN2NpKh8",
        "outputId": "9a0be613-bbe7-409b-e785-16fba6b9dcc0"
      },
      "execution_count": 34,
      "outputs": [
        {
          "output_type": "stream",
          "name": "stdout",
          "text": [
            "This is a Apple M2 model\n",
            "This is a Windows Intel model\n"
          ]
        }
      ]
    }
  ]
}