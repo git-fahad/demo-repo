{
  "nbformat": 4,
  "nbformat_minor": 0,
  "metadata": {
    "colab": {
      "provenance": [],
      "authorship_tag": "ABX9TyPc7ikohK88eNG1xXQCnb2u",
      "include_colab_link": true
    },
    "kernelspec": {
      "name": "python3",
      "display_name": "Python 3"
    },
    "language_info": {
      "name": "python"
    }
  },
  "cells": [
    {
      "cell_type": "markdown",
      "metadata": {
        "id": "view-in-github",
        "colab_type": "text"
      },
      "source": [
        "<a href=\"https://colab.research.google.com/github/git-fahad/demo-repo/blob/main/SciPy_demo.ipynb\" target=\"_parent\"><img src=\"https://colab.research.google.com/assets/colab-badge.svg\" alt=\"Open In Colab\"/></a>"
      ]
    },
    {
      "cell_type": "code",
      "execution_count": null,
      "metadata": {
        "colab": {
          "base_uri": "https://localhost:8080/"
        },
        "id": "vIG-mn6h1_vs",
        "outputId": "50b8fa99-a067-4789-e043-80b4de84905a"
      },
      "outputs": [
        {
          "output_type": "stream",
          "name": "stdout",
          "text": [
            "Help on package scipy.cluster in scipy:\n",
            "\n",
            "NAME\n",
            "    scipy.cluster\n",
            "\n",
            "DESCRIPTION\n",
            "    =========================================\n",
            "    Clustering package (:mod:`scipy.cluster`)\n",
            "    =========================================\n",
            "    \n",
            "    .. currentmodule:: scipy.cluster\n",
            "    \n",
            "    .. toctree::\n",
            "       :hidden:\n",
            "    \n",
            "       cluster.vq\n",
            "       cluster.hierarchy\n",
            "    \n",
            "    Clustering algorithms are useful in information theory, target detection,\n",
            "    communications, compression, and other areas. The `vq` module only\n",
            "    supports vector quantization and the k-means algorithms.\n",
            "    \n",
            "    The `hierarchy` module provides functions for hierarchical and\n",
            "    agglomerative clustering.  Its features include generating hierarchical\n",
            "    clusters from distance matrices,\n",
            "    calculating statistics on clusters, cutting linkages\n",
            "    to generate flat clusters, and visualizing clusters with dendrograms.\n",
            "\n",
            "PACKAGE CONTENTS\n",
            "    _hierarchy\n",
            "    _optimal_leaf_ordering\n",
            "    _vq\n",
            "    hierarchy\n",
            "    tests (package)\n",
            "    vq\n",
            "\n",
            "DATA\n",
            "    __all__ = ['vq', 'hierarchy']\n",
            "\n",
            "FILE\n",
            "    /usr/local/lib/python3.10/dist-packages/scipy/cluster/__init__.py\n",
            "\n",
            "\n"
          ]
        }
      ],
      "source": [
        "from scipy import cluster\n",
        "\n",
        "#getting information for a particular scipy package\n",
        "\n",
        "help(cluster)"
      ]
    },
    {
      "cell_type": "code",
      "source": [
        "## Another method to get info regarding a package\n",
        "\n",
        "import scipy\n",
        "scipy.info(cluster)"
      ],
      "metadata": {
        "colab": {
          "base_uri": "https://localhost:8080/"
        },
        "id": "k3Uayo0e5B0X",
        "outputId": "b72e62f2-b94f-4a80-c98f-d11c5a185364"
      },
      "execution_count": null,
      "outputs": [
        {
          "output_type": "stream",
          "name": "stdout",
          "text": [
            "=========================================\n",
            "Clustering package (:mod:`scipy.cluster`)\n",
            "=========================================\n",
            "\n",
            ".. currentmodule:: scipy.cluster\n",
            "\n",
            ".. toctree::\n",
            "   :hidden:\n",
            "\n",
            "   cluster.vq\n",
            "   cluster.hierarchy\n",
            "\n",
            "Clustering algorithms are useful in information theory, target detection,\n",
            "communications, compression, and other areas. The `vq` module only\n",
            "supports vector quantization and the k-means algorithms.\n",
            "\n",
            "The `hierarchy` module provides functions for hierarchical and\n",
            "agglomerative clustering.  Its features include generating hierarchical\n",
            "clusters from distance matrices,\n",
            "calculating statistics on clusters, cutting linkages\n",
            "to generate flat clusters, and visualizing clusters with dendrograms.\n"
          ]
        },
        {
          "output_type": "stream",
          "name": "stderr",
          "text": [
            "<ipython-input-3-a80691fb3310>:4: DeprecationWarning: scipy.info is deprecated and will be removed in SciPy 2.0.0, use numpy.info instead\n",
            "  scipy.info(cluster)\n"
          ]
        }
      ]
    },
    {
      "cell_type": "code",
      "source": [
        "#Special functions\n",
        "\n",
        "from scipy import special\n",
        "\n",
        "a = special.exp10(0)\n",
        "b = special.exp2(4)\n",
        "print(a,'\\n',b)"
      ],
      "metadata": {
        "colab": {
          "base_uri": "https://localhost:8080/"
        },
        "id": "sQAm593V5B7A",
        "outputId": "bf40eada-db27-4221-a5fc-3224ea2d216b"
      },
      "execution_count": null,
      "outputs": [
        {
          "output_type": "stream",
          "name": "stdout",
          "text": [
            "1.0 \n",
            " 16.0\n"
          ]
        }
      ]
    },
    {
      "cell_type": "code",
      "source": [
        "# Trignometric functions\n",
        "x = special.cosdg(90)\n",
        "y = special.sindg(90)\n",
        "\n",
        "print(x, '\\n', y)"
      ],
      "metadata": {
        "colab": {
          "base_uri": "https://localhost:8080/"
        },
        "id": "JrrJlvz37UTw",
        "outputId": "9f400a58-1cb9-4cbc-88c4-64aecba6e75a"
      },
      "execution_count": null,
      "outputs": [
        {
          "output_type": "stream",
          "name": "stdout",
          "text": [
            "-0.0 \n",
            " 1.0\n"
          ]
        }
      ]
    },
    {
      "cell_type": "code",
      "source": [
        "# Integration functions\n",
        "\n",
        "from scipy import integrate\n",
        "\n",
        "# general integration (one variable)\n",
        "\n",
        "# help(scipy.integrate.quad)\n",
        "\n",
        "y = scipy.integrate.quad(lambda x: special.exp10(x), 0, 2)\n",
        "print (y)"
      ],
      "metadata": {
        "colab": {
          "base_uri": "https://localhost:8080/"
        },
        "id": "zXb8-4Ya7y9v",
        "outputId": "84d36b8c-9661-4ed6-a3de-2899edbf6034"
      },
      "execution_count": null,
      "outputs": [
        {
          "output_type": "stream",
          "name": "stdout",
          "text": [
            "(42.99515370842193, 4.773420959438771e-13)\n"
          ]
        }
      ]
    },
    {
      "cell_type": "code",
      "source": [
        "#double integration\n",
        "\n",
        "e = lambda x,y: x*y**2\n",
        "f = lambda x: 1\n",
        "d = lambda x: -1\n",
        "integrate.dblquad(e,0,2,f,d)\n"
      ],
      "metadata": {
        "colab": {
          "base_uri": "https://localhost:8080/"
        },
        "id": "43p02vGm_Eqm",
        "outputId": "4a6f940d-a4c8-4a9e-ee19-4567f0760326"
      },
      "execution_count": null,
      "outputs": [
        {
          "output_type": "execute_result",
          "data": {
            "text/plain": [
              "(-0.0, 4.405142707569776e-14)"
            ]
          },
          "metadata": {},
          "execution_count": 15
        }
      ]
    },
    {
      "cell_type": "code",
      "source": [
        "# Fourier transform\n",
        "\n",
        "from scipy.fftpack import fft, ifft\n",
        "import numpy as np\n",
        "\n",
        "x=np.array([1,2,3,4])\n",
        "y=fft(x)\n",
        "print(y)\n",
        "print('\\n')\n",
        "y=ifft(x)\n",
        "print(y)\n"
      ],
      "metadata": {
        "colab": {
          "base_uri": "https://localhost:8080/"
        },
        "id": "X7dNFdGC_LbS",
        "outputId": "5c30b90f-1603-4c6f-9445-9413fb22eb76"
      },
      "execution_count": null,
      "outputs": [
        {
          "output_type": "stream",
          "name": "stdout",
          "text": [
            "[10.-0.j -2.+2.j -2.-0.j -2.-2.j]\n",
            "\n",
            "\n",
            "[ 2.5-0.j  -0.5-0.5j -0.5-0.j  -0.5+0.5j]\n"
          ]
        }
      ]
    },
    {
      "cell_type": "code",
      "source": [
        "# Linear Algebra\n",
        "\n",
        "from scipy import linalg\n",
        "a=np.array([[1,3],[4,7]])\n",
        "b=linalg.inv(a)\n",
        "print(b)"
      ],
      "metadata": {
        "colab": {
          "base_uri": "https://localhost:8080/"
        },
        "id": "Lk98BLgQAHKX",
        "outputId": "61584358-0180-489e-fc68-74d4821f73ab"
      },
      "execution_count": null,
      "outputs": [
        {
          "output_type": "stream",
          "name": "stdout",
          "text": [
            "[[-1.4  0.6]\n",
            " [ 0.8 -0.2]]\n"
          ]
        }
      ]
    },
    {
      "cell_type": "code",
      "source": [],
      "metadata": {
        "id": "VTraWMHbAJIn"
      },
      "execution_count": null,
      "outputs": []
    }
  ]
}